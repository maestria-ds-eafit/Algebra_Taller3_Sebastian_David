{
 "cells": [
  {
   "cell_type": "markdown",
   "metadata": {},
   "source": [
    "# 2. Ortogonalización Grahm-Schmidt"
   ]
  },
  {
   "cell_type": "markdown",
   "metadata": {},
   "source": [
    "## 2.1. Función manual para QR vs función `scipy.linalg.qr`"
   ]
  },
  {
   "cell_type": "markdown",
   "metadata": {},
   "source": [
    "### Importando librerías"
   ]
  },
  {
   "cell_type": "code",
   "execution_count": 1,
   "metadata": {},
   "outputs": [],
   "source": [
    "#Importanod librerias\n",
    "import pandas as pd\n",
    "import numpy as np\n",
    "from numpy import matrix, linalg\n",
    "import scipy"
   ]
  },
  {
   "cell_type": "markdown",
   "metadata": {},
   "source": [
    "### Definiendo Matriz Manual"
   ]
  },
  {
   "cell_type": "code",
   "execution_count": 2,
   "metadata": {},
   "outputs": [
    {
     "data": {
      "text/plain": [
       "array([[ 3,  2, -1],\n",
       "       [ 3, -2,  0],\n",
       "       [ 3,  2,  1],\n",
       "       [ 3, -2,  0],\n",
       "       [ 3,  2, -1]])"
      ]
     },
     "execution_count": 2,
     "metadata": {},
     "output_type": "execute_result"
    }
   ],
   "source": [
    "#Definiendo la matriz con los coeficientes de las ecuaciones\n",
    "A=np.array([[3,2,-1],[3,-2,0],[3,2,1],[3,-2,0],[3,2,-1]])\n",
    "A"
   ]
  },
  {
   "cell_type": "markdown",
   "metadata": {},
   "source": [
    "### Definiendo algoritmo para hallar QR"
   ]
  },
  {
   "cell_type": "code",
   "execution_count": 3,
   "metadata": {},
   "outputs": [],
   "source": [
    "def gram_schmidt(A):\n",
    "    # Get the number of columns in A\n",
    "    \n",
    "    A = A.astype(float)\n",
    "    num_columns = A.shape[1]\n",
    "    \n",
    "    # Initialize matrices Q and R with zeros\n",
    "    Q = np.zeros_like(A, dtype=float)\n",
    "    R = np.zeros((num_columns, num_columns), dtype=float)\n",
    "    \n",
    "    for j in range(num_columns):\n",
    "        v = A[:, j]  # Get the j-th column of A\n",
    "        \n",
    "        for i in range(j):\n",
    "            # Compute the projection of v onto Q[:, i] and subtract it from v\n",
    "            R[i, j] = np.dot(Q[:, i], A[:, j])\n",
    "            v -= R[i, j] * Q[:, i]\n",
    "        \n",
    "        # Normalize v to get the i-th column of Q\n",
    "        R[j, j] = np.linalg.norm(v)\n",
    "        Q[:, j] = v / R[j, j]\n",
    "    \n",
    "    return Q, R"
   ]
  },
  {
   "cell_type": "markdown",
   "metadata": {},
   "source": [
    "#### Ejecutando función"
   ]
  },
  {
   "cell_type": "code",
   "execution_count": 4,
   "metadata": {},
   "outputs": [
    {
     "name": "stdout",
     "output_type": "stream",
     "text": [
      "Q (orthogonalized matrix):\n",
      " [[ 0.4472136   0.36514837 -0.40824829]\n",
      " [ 0.4472136  -0.54772256  0.        ]\n",
      " [ 0.4472136   0.36514837  0.81649658]\n",
      " [ 0.4472136  -0.54772256  0.        ]\n",
      " [ 0.4472136   0.36514837 -0.40824829]]\n",
      "\n",
      "R (upper triangular matrix):\n",
      " [[ 6.70820393  0.89442719 -0.4472136 ]\n",
      " [ 0.          4.38178046 -0.36514837]\n",
      " [ 0.          0.          1.63299316]]\n"
     ]
    }
   ],
   "source": [
    "Q, R = gram_schmidt(A)\n",
    "print(\"Q (orthogonalized matrix):\\n\", Q)\n",
    "print(\"\\nR (upper triangular matrix):\\n\", R)"
   ]
  },
  {
   "cell_type": "markdown",
   "metadata": {},
   "source": [
    "#### Verificando que QT*Q = I"
   ]
  },
  {
   "cell_type": "code",
   "execution_count": 11,
   "metadata": {},
   "outputs": [
    {
     "data": {
      "text/plain": [
       "array([[ 1.,  0., -0.],\n",
       "       [ 0.,  1., -0.],\n",
       "       [-0., -0.,  1.]])"
      ]
     },
     "execution_count": 11,
     "metadata": {},
     "output_type": "execute_result"
    }
   ],
   "source": [
    "(Q.T@Q).round()"
   ]
  },
  {
   "cell_type": "markdown",
   "metadata": {},
   "source": [
    "#### Hallando A multiplicando Q y R"
   ]
  },
  {
   "cell_type": "code",
   "execution_count": 19,
   "metadata": {},
   "outputs": [
    {
     "data": {
      "text/plain": [
       "array([[ 3.,  2., -1.],\n",
       "       [ 3., -2., -0.],\n",
       "       [ 3.,  2.,  1.],\n",
       "       [ 3., -2., -0.],\n",
       "       [ 3.,  2., -1.]])"
      ]
     },
     "execution_count": 19,
     "metadata": {},
     "output_type": "execute_result"
    }
   ],
   "source": [
    "A_cal=Q@R\n",
    "A_cal.round()"
   ]
  },
  {
   "cell_type": "markdown",
   "metadata": {},
   "source": [
    "### Comparando los resultados con la función `scipy.linalg.qr`"
   ]
  },
  {
   "cell_type": "markdown",
   "metadata": {},
   "source": [
    "#### Hallando Q y R"
   ]
  },
  {
   "cell_type": "code",
   "execution_count": 16,
   "metadata": {},
   "outputs": [
    {
     "name": "stdout",
     "output_type": "stream",
     "text": [
      "Q (orthogonalized matrix):\n",
      " [[-4.47213595e-01  3.65148372e-01  4.08248290e-01 -8.61535451e-02\n",
      "  -7.01838704e-01]\n",
      " [-4.47213595e-01 -5.47722558e-01 -5.55111512e-17 -7.01838704e-01\n",
      "   8.61535451e-02]\n",
      " [-4.47213595e-01  3.65148372e-01 -8.16496581e-01 -3.46944695e-18\n",
      "   2.77555756e-17]\n",
      " [-4.47213595e-01 -5.47722558e-01 -2.77555756e-17  7.01838704e-01\n",
      "  -8.61535451e-02]\n",
      " [-4.47213595e-01  3.65148372e-01  4.08248290e-01  8.61535451e-02\n",
      "   7.01838704e-01]]\n",
      "\n",
      "R (upper triangular matrix):\n",
      " [[-6.70820393 -0.89442719  0.4472136 ]\n",
      " [ 0.          4.38178046 -0.36514837]\n",
      " [ 0.          0.         -1.63299316]\n",
      " [ 0.          0.          0.        ]\n",
      " [ 0.          0.          0.        ]]\n"
     ]
    }
   ],
   "source": [
    "Q_s,R_s=scipy.linalg.qr(A)\n",
    "print(\"Q (orthogonalized matrix):\\n\", Q_s)\n",
    "print(\"\\nR (upper triangular matrix):\\n\", R_s)"
   ]
  },
  {
   "cell_type": "markdown",
   "metadata": {},
   "source": [
    "#### Verificando que Q es ortogonal"
   ]
  },
  {
   "cell_type": "code",
   "execution_count": 18,
   "metadata": {},
   "outputs": [
    {
     "data": {
      "text/plain": [
       "array([[ 1.,  0.,  0.,  0., -0.],\n",
       "       [ 0.,  1.,  0., -0.,  0.],\n",
       "       [ 0.,  0.,  1.,  0.,  0.],\n",
       "       [ 0., -0.,  0.,  1.,  0.],\n",
       "       [-0.,  0.,  0.,  0.,  1.]])"
      ]
     },
     "execution_count": 18,
     "metadata": {},
     "output_type": "execute_result"
    }
   ],
   "source": [
    "(Q_s.T@Q_s).round()"
   ]
  },
  {
   "cell_type": "markdown",
   "metadata": {},
   "source": [
    "#### Calculando A con Q y R"
   ]
  },
  {
   "cell_type": "code",
   "execution_count": 21,
   "metadata": {},
   "outputs": [
    {
     "data": {
      "text/plain": [
       "array([[ 3.,  2., -1.],\n",
       "       [ 3., -2.,  0.],\n",
       "       [ 3.,  2.,  1.],\n",
       "       [ 3., -2.,  0.],\n",
       "       [ 3.,  2., -1.]])"
      ]
     },
     "execution_count": 21,
     "metadata": {},
     "output_type": "execute_result"
    }
   ],
   "source": [
    "A_cal_s=Q_s@R_s\n",
    "A_cal_s.round()"
   ]
  },
  {
   "cell_type": "markdown",
   "metadata": {},
   "source": [
    "### Observación QR manual vs QR de Scipy:\n",
    "\n",
    "#### Se puede notar que para algunas observaciones de las matrices Q y R, los signos cambian dependiendo de la metodología utilizada. También es evidente que usando la función `scipy.linalg.qr` arroja una matriz **Q de tamaño mxm** y **R arroja una matriz de tamaño mxn**, por otra parte, utilizando la `función manual`, se encuentra una matriz **Q de tamaño mxn** y una matriz **R de tamaño nxn**. \n",
    "\n",
    "#### Sin embargo, bajo ambas metodologías, se cumple que Q es ortogonal y el cálculo de A multiplicando Q*R da el mismo resultado."
   ]
  },
  {
   "cell_type": "markdown",
   "metadata": {},
   "source": [
    "## 2.1. ¿Qué pasa con la factorización QR cuando las columnas son linealmente dependientes?"
   ]
  },
  {
   "cell_type": "code",
   "execution_count": 22,
   "metadata": {},
   "outputs": [
    {
     "data": {
      "text/plain": [
       "array([[ 1,  2,  3],\n",
       "       [ 2,  4,  6],\n",
       "       [ 3,  6,  9],\n",
       "       [ 4,  8, 12]])"
      ]
     },
     "execution_count": 22,
     "metadata": {},
     "output_type": "execute_result"
    }
   ],
   "source": [
    "matriz_dependiente = np.array([\n",
    "    [1, 2, 3],\n",
    "    [2, 4, 6],\n",
    "    [3, 6, 9],\n",
    "    [4, 8, 12]\n",
    "])\n",
    "\n",
    "matriz_dependiente"
   ]
  },
  {
   "cell_type": "code",
   "execution_count": 31,
   "metadata": {},
   "outputs": [
    {
     "name": "stdout",
     "output_type": "stream",
     "text": [
      "Q (orthogonalized matrix):\n",
      " [[0.18257419 0.16439899        nan]\n",
      " [0.36514837 0.32879797        nan]\n",
      " [0.54772256 0.65759595        nan]\n",
      " [0.73029674 0.65759595        nan]]\n",
      "\n",
      "R (upper triangular matrix):\n",
      " [[5.47722558e+00 1.09544512e+01 1.64316767e+01]\n",
      " [0.00000000e+00 2.70128921e-15 5.40257841e-15]\n",
      " [0.00000000e+00 0.00000000e+00 0.00000000e+00]]\n"
     ]
    },
    {
     "name": "stderr",
     "output_type": "stream",
     "text": [
      "/tmp/ipykernel_4808/3194432237.py:21: RuntimeWarning: invalid value encountered in divide\n",
      "  Q[:, j] = v / R[j, j]\n"
     ]
    }
   ],
   "source": [
    "Q, R = gram_schmidt(matriz_dependiente)\n",
    "print(\"Q (orthogonalized matrix):\\n\", Q)\n",
    "print(\"\\nR (upper triangular matrix):\\n\", R)"
   ]
  },
  {
   "cell_type": "code",
   "execution_count": 30,
   "metadata": {},
   "outputs": [
    {
     "data": {
      "text/plain": [
       "array([[ 1.,  1., nan],\n",
       "       [ 1.,  1., nan],\n",
       "       [nan, nan, nan]])"
      ]
     },
     "execution_count": 30,
     "metadata": {},
     "output_type": "execute_result"
    }
   ],
   "source": [
    "(Q.T@Q).round()"
   ]
  },
  {
   "cell_type": "code",
   "execution_count": 27,
   "metadata": {},
   "outputs": [
    {
     "data": {
      "text/plain": [
       "array([[nan, nan, nan],\n",
       "       [nan, nan, nan],\n",
       "       [nan, nan, nan],\n",
       "       [nan, nan, nan]])"
      ]
     },
     "execution_count": 27,
     "metadata": {},
     "output_type": "execute_result"
    }
   ],
   "source": [
    "Q@R"
   ]
  },
  {
   "cell_type": "markdown",
   "metadata": {},
   "source": [
    "#### Cuando la matriz es linealmente dependiente sucede lo siguiente:\n",
    "\n",
    "1) La matriz ortogonal (Q) deja de ser ortogonal, dado que QT@Q no da igual a la matriz identidad. Por lo tanto, es una matriz que no minimiza el error.\n",
    "\n",
    "2) La Matriz R tiene almenos una fila con ceros, esto se debe a que las columnas de A son combinaciones de otras columnas, es decir, tienen la misma dirección pero con diferente longitud.\n",
    "\n",
    "3) Los puntos anteriores causan que Q@R no den como resultado la matriz A original, porque al no ser ortogonal Q, el sistema no tiene única solución."
   ]
  },
  {
   "cell_type": "markdown",
   "metadata": {},
   "source": [
    "## 2.3. Condiciónes para que la factorización QR sea única.\n",
    "\n",
    "1) Este proceso obtiene matrices Q y R únicas cuando la matriz es cuadrada y no es linealmente dependiente.  Si la matriz no es cuadrada, se pueden hallar multiples Q y R que multiplicadas den como resultado la Matriz A.\n",
    "\n",
    "2) La factorización QR también es única cuando la matriz es de rango completo, es decir, el número de columnas linealmente independientes igual al número de filas. Esto es otra forma de ver el punto anterior."
   ]
  },
  {
   "cell_type": "markdown",
   "metadata": {},
   "source": [
    "# 2)"
   ]
  },
  {
   "cell_type": "code",
   "execution_count": null,
   "metadata": {},
   "outputs": [
    {
     "data": {
      "text/html": [
       "<div>\n",
       "<style scoped>\n",
       "    .dataframe tbody tr th:only-of-type {\n",
       "        vertical-align: middle;\n",
       "    }\n",
       "\n",
       "    .dataframe tbody tr th {\n",
       "        vertical-align: top;\n",
       "    }\n",
       "\n",
       "    .dataframe thead th {\n",
       "        text-align: right;\n",
       "    }\n",
       "</style>\n",
       "<table border=\"1\" class=\"dataframe\">\n",
       "  <thead>\n",
       "    <tr style=\"text-align: right;\">\n",
       "      <th></th>\n",
       "      <th>BodyFat</th>\n",
       "      <th>Weight</th>\n",
       "      <th>Height</th>\n",
       "      <th>Abdomen</th>\n",
       "    </tr>\n",
       "  </thead>\n",
       "  <tbody>\n",
       "    <tr>\n",
       "      <th>0</th>\n",
       "      <td>12.3</td>\n",
       "      <td>154.25</td>\n",
       "      <td>67.75</td>\n",
       "      <td>85.2</td>\n",
       "    </tr>\n",
       "    <tr>\n",
       "      <th>1</th>\n",
       "      <td>6.1</td>\n",
       "      <td>173.25</td>\n",
       "      <td>72.25</td>\n",
       "      <td>83.0</td>\n",
       "    </tr>\n",
       "    <tr>\n",
       "      <th>2</th>\n",
       "      <td>25.3</td>\n",
       "      <td>154.00</td>\n",
       "      <td>66.25</td>\n",
       "      <td>87.9</td>\n",
       "    </tr>\n",
       "    <tr>\n",
       "      <th>3</th>\n",
       "      <td>10.4</td>\n",
       "      <td>184.75</td>\n",
       "      <td>72.25</td>\n",
       "      <td>86.4</td>\n",
       "    </tr>\n",
       "    <tr>\n",
       "      <th>4</th>\n",
       "      <td>28.7</td>\n",
       "      <td>184.25</td>\n",
       "      <td>71.25</td>\n",
       "      <td>100.0</td>\n",
       "    </tr>\n",
       "  </tbody>\n",
       "</table>\n",
       "</div>"
      ],
      "text/plain": [
       "   BodyFat  Weight  Height  Abdomen\n",
       "0     12.3  154.25   67.75     85.2\n",
       "1      6.1  173.25   72.25     83.0\n",
       "2     25.3  154.00   66.25     87.9\n",
       "3     10.4  184.75   72.25     86.4\n",
       "4     28.7  184.25   71.25    100.0"
      ]
     },
     "execution_count": 17,
     "metadata": {},
     "output_type": "execute_result"
    }
   ],
   "source": [
    "#Leyendo datos\n",
    "df=pd.read_csv(\"data/bodyfat.csv\")\n",
    "df=df[[\"BodyFat\",\"Weight\",\"Height\",\"Abdomen\"]]\n",
    "df.head()"
   ]
  },
  {
   "cell_type": "code",
   "execution_count": null,
   "metadata": {},
   "outputs": [
    {
     "data": {
      "text/html": [
       "<div>\n",
       "<style scoped>\n",
       "    .dataframe tbody tr th:only-of-type {\n",
       "        vertical-align: middle;\n",
       "    }\n",
       "\n",
       "    .dataframe tbody tr th {\n",
       "        vertical-align: top;\n",
       "    }\n",
       "\n",
       "    .dataframe thead th {\n",
       "        text-align: right;\n",
       "    }\n",
       "</style>\n",
       "<table border=\"1\" class=\"dataframe\">\n",
       "  <thead>\n",
       "    <tr style=\"text-align: right;\">\n",
       "      <th></th>\n",
       "      <th>Intercept</th>\n",
       "      <th>Weight</th>\n",
       "      <th>Height</th>\n",
       "      <th>Abdomen</th>\n",
       "    </tr>\n",
       "  </thead>\n",
       "  <tbody>\n",
       "    <tr>\n",
       "      <th>0</th>\n",
       "      <td>1</td>\n",
       "      <td>154.25</td>\n",
       "      <td>67.75</td>\n",
       "      <td>85.2</td>\n",
       "    </tr>\n",
       "    <tr>\n",
       "      <th>1</th>\n",
       "      <td>1</td>\n",
       "      <td>173.25</td>\n",
       "      <td>72.25</td>\n",
       "      <td>83.0</td>\n",
       "    </tr>\n",
       "    <tr>\n",
       "      <th>2</th>\n",
       "      <td>1</td>\n",
       "      <td>154.00</td>\n",
       "      <td>66.25</td>\n",
       "      <td>87.9</td>\n",
       "    </tr>\n",
       "    <tr>\n",
       "      <th>3</th>\n",
       "      <td>1</td>\n",
       "      <td>184.75</td>\n",
       "      <td>72.25</td>\n",
       "      <td>86.4</td>\n",
       "    </tr>\n",
       "    <tr>\n",
       "      <th>4</th>\n",
       "      <td>1</td>\n",
       "      <td>184.25</td>\n",
       "      <td>71.25</td>\n",
       "      <td>100.0</td>\n",
       "    </tr>\n",
       "    <tr>\n",
       "      <th>...</th>\n",
       "      <td>...</td>\n",
       "      <td>...</td>\n",
       "      <td>...</td>\n",
       "      <td>...</td>\n",
       "    </tr>\n",
       "    <tr>\n",
       "      <th>247</th>\n",
       "      <td>1</td>\n",
       "      <td>134.25</td>\n",
       "      <td>67.00</td>\n",
       "      <td>83.6</td>\n",
       "    </tr>\n",
       "    <tr>\n",
       "      <th>248</th>\n",
       "      <td>1</td>\n",
       "      <td>201.00</td>\n",
       "      <td>69.75</td>\n",
       "      <td>105.0</td>\n",
       "    </tr>\n",
       "    <tr>\n",
       "      <th>249</th>\n",
       "      <td>1</td>\n",
       "      <td>186.75</td>\n",
       "      <td>66.00</td>\n",
       "      <td>111.5</td>\n",
       "    </tr>\n",
       "    <tr>\n",
       "      <th>250</th>\n",
       "      <td>1</td>\n",
       "      <td>190.75</td>\n",
       "      <td>70.50</td>\n",
       "      <td>101.3</td>\n",
       "    </tr>\n",
       "    <tr>\n",
       "      <th>251</th>\n",
       "      <td>1</td>\n",
       "      <td>207.50</td>\n",
       "      <td>70.00</td>\n",
       "      <td>108.5</td>\n",
       "    </tr>\n",
       "  </tbody>\n",
       "</table>\n",
       "<p>252 rows × 4 columns</p>\n",
       "</div>"
      ],
      "text/plain": [
       "     Intercept  Weight  Height  Abdomen\n",
       "0            1  154.25   67.75     85.2\n",
       "1            1  173.25   72.25     83.0\n",
       "2            1  154.00   66.25     87.9\n",
       "3            1  184.75   72.25     86.4\n",
       "4            1  184.25   71.25    100.0\n",
       "..         ...     ...     ...      ...\n",
       "247          1  134.25   67.00     83.6\n",
       "248          1  201.00   69.75    105.0\n",
       "249          1  186.75   66.00    111.5\n",
       "250          1  190.75   70.50    101.3\n",
       "251          1  207.50   70.00    108.5\n",
       "\n",
       "[252 rows x 4 columns]"
      ]
     },
     "execution_count": 21,
     "metadata": {},
     "output_type": "execute_result"
    }
   ],
   "source": [
    "X=df.drop(\"BodyFat\",axis=1)\n",
    "X[\"Intercept\"]=1\n",
    "X=X[[\"Intercept\",\"Weight\",\"Height\",\"Abdomen\"]]\n",
    "X\n"
   ]
  },
  {
   "cell_type": "code",
   "execution_count": null,
   "metadata": {},
   "outputs": [
    {
     "data": {
      "text/plain": [
       "array([[  1.  , 154.25,  67.75,  85.2 ],\n",
       "       [  1.  , 173.25,  72.25,  83.  ],\n",
       "       [  1.  , 154.  ,  66.25,  87.9 ],\n",
       "       ...,\n",
       "       [  1.  , 186.75,  66.  , 111.5 ],\n",
       "       [  1.  , 190.75,  70.5 , 101.3 ],\n",
       "       [  1.  , 207.5 ,  70.  , 108.5 ]])"
      ]
     },
     "execution_count": 23,
     "metadata": {},
     "output_type": "execute_result"
    }
   ],
   "source": [
    "X_matrix=X.values\n",
    "X_matrix"
   ]
  },
  {
   "cell_type": "code",
   "execution_count": null,
   "metadata": {},
   "outputs": [],
   "source": [
    "var_i=X_matrix[:,0]\n",
    "var_1=X_matrix[:,1]\n",
    "var_2=X_matrix[:,2]\n",
    "var_3=X_matrix[:,3]"
   ]
  },
  {
   "cell_type": "code",
   "execution_count": null,
   "metadata": {},
   "outputs": [
    {
     "data": {
      "text/plain": [
       "array([[12.3],\n",
       "       [ 6.1],\n",
       "       [25.3],\n",
       "       [10.4],\n",
       "       [28.7],\n",
       "       [20.9],\n",
       "       [19.2],\n",
       "       [12.4],\n",
       "       [ 4.1],\n",
       "       [11.7],\n",
       "       [ 7.1],\n",
       "       [ 7.8],\n",
       "       [20.8],\n",
       "       [21.2],\n",
       "       [22.1],\n",
       "       [20.9],\n",
       "       [29. ],\n",
       "       [22.9],\n",
       "       [16. ],\n",
       "       [16.5],\n",
       "       [19.1],\n",
       "       [15.2],\n",
       "       [15.6],\n",
       "       [17.7],\n",
       "       [14. ],\n",
       "       [ 3.7],\n",
       "       [ 7.9],\n",
       "       [22.9],\n",
       "       [ 3.7],\n",
       "       [ 8.8],\n",
       "       [11.9],\n",
       "       [ 5.7],\n",
       "       [11.8],\n",
       "       [21.3],\n",
       "       [32.3],\n",
       "       [40.1],\n",
       "       [24.2],\n",
       "       [28.4],\n",
       "       [35.2],\n",
       "       [32.6],\n",
       "       [34.5],\n",
       "       [32.9],\n",
       "       [31.6],\n",
       "       [32. ],\n",
       "       [ 7.7],\n",
       "       [13.9],\n",
       "       [10.8],\n",
       "       [ 5.6],\n",
       "       [13.6],\n",
       "       [ 4. ],\n",
       "       [10.2],\n",
       "       [ 6.6],\n",
       "       [ 8. ],\n",
       "       [ 6.3],\n",
       "       [ 3.9],\n",
       "       [22.6],\n",
       "       [20.4],\n",
       "       [28. ],\n",
       "       [31.5],\n",
       "       [24.6],\n",
       "       [26.1],\n",
       "       [29.8],\n",
       "       [30.7],\n",
       "       [25.8],\n",
       "       [32.3],\n",
       "       [30. ],\n",
       "       [21.5],\n",
       "       [13.8],\n",
       "       [ 6.3],\n",
       "       [12.9],\n",
       "       [24.3],\n",
       "       [ 8.8],\n",
       "       [ 8.5],\n",
       "       [13.5],\n",
       "       [11.8],\n",
       "       [18.5],\n",
       "       [ 8.8],\n",
       "       [22.2],\n",
       "       [21.5],\n",
       "       [18.8],\n",
       "       [31.4],\n",
       "       [26.8],\n",
       "       [18.4],\n",
       "       [27. ],\n",
       "       [27. ],\n",
       "       [26.6],\n",
       "       [14.9],\n",
       "       [23.1],\n",
       "       [ 8.3],\n",
       "       [14.1],\n",
       "       [20.5],\n",
       "       [18.2],\n",
       "       [ 8.5],\n",
       "       [24.9],\n",
       "       [ 9. ],\n",
       "       [17.4],\n",
       "       [ 9.6],\n",
       "       [11.3],\n",
       "       [17.8],\n",
       "       [22.2],\n",
       "       [21.2],\n",
       "       [20.4],\n",
       "       [20.1],\n",
       "       [22.3],\n",
       "       [25.4],\n",
       "       [18. ],\n",
       "       [19.3],\n",
       "       [18.3],\n",
       "       [17.3],\n",
       "       [21.4],\n",
       "       [19.7],\n",
       "       [28. ],\n",
       "       [22.1],\n",
       "       [21.3],\n",
       "       [26.7],\n",
       "       [16.7],\n",
       "       [20.1],\n",
       "       [13.9],\n",
       "       [25.8],\n",
       "       [18.1],\n",
       "       [27.9],\n",
       "       [25.3],\n",
       "       [14.7],\n",
       "       [16. ],\n",
       "       [13.8],\n",
       "       [17.5],\n",
       "       [27.2],\n",
       "       [17.4],\n",
       "       [20.8],\n",
       "       [14.9],\n",
       "       [18.1],\n",
       "       [22.7],\n",
       "       [23.6],\n",
       "       [26.1],\n",
       "       [24.4],\n",
       "       [27.1],\n",
       "       [21.8],\n",
       "       [29.4],\n",
       "       [22.4],\n",
       "       [20.4],\n",
       "       [24.9],\n",
       "       [18.3],\n",
       "       [23.3],\n",
       "       [ 9.4],\n",
       "       [10.3],\n",
       "       [14.2],\n",
       "       [19.2],\n",
       "       [29.6],\n",
       "       [ 5.3],\n",
       "       [25.2],\n",
       "       [ 9.4],\n",
       "       [19.6],\n",
       "       [10.1],\n",
       "       [16.5],\n",
       "       [21. ],\n",
       "       [17.3],\n",
       "       [31.2],\n",
       "       [10. ],\n",
       "       [12.5],\n",
       "       [22.5],\n",
       "       [ 9.4],\n",
       "       [14.6],\n",
       "       [13. ],\n",
       "       [15.1],\n",
       "       [27.3],\n",
       "       [19.2],\n",
       "       [21.8],\n",
       "       [20.3],\n",
       "       [34.3],\n",
       "       [16.5],\n",
       "       [ 3. ],\n",
       "       [ 0.7],\n",
       "       [20.5],\n",
       "       [16.9],\n",
       "       [25.3],\n",
       "       [ 9.9],\n",
       "       [13.1],\n",
       "       [29.9],\n",
       "       [22.5],\n",
       "       [16.9],\n",
       "       [26.6],\n",
       "       [ 0. ],\n",
       "       [11.5],\n",
       "       [12.1],\n",
       "       [17.5],\n",
       "       [ 8.6],\n",
       "       [23.6],\n",
       "       [20.4],\n",
       "       [20.5],\n",
       "       [24.4],\n",
       "       [11.4],\n",
       "       [38.1],\n",
       "       [15.9],\n",
       "       [24.7],\n",
       "       [22.8],\n",
       "       [25.5],\n",
       "       [22. ],\n",
       "       [17.7],\n",
       "       [ 6.6],\n",
       "       [23.6],\n",
       "       [12.2],\n",
       "       [22.1],\n",
       "       [28.7],\n",
       "       [ 6. ],\n",
       "       [34.8],\n",
       "       [16.6],\n",
       "       [32.9],\n",
       "       [32.8],\n",
       "       [ 9.6],\n",
       "       [10.8],\n",
       "       [ 7.1],\n",
       "       [27.2],\n",
       "       [19.5],\n",
       "       [18.7],\n",
       "       [19.5],\n",
       "       [47.5],\n",
       "       [13.6],\n",
       "       [ 7.5],\n",
       "       [24.5],\n",
       "       [15. ],\n",
       "       [12.4],\n",
       "       [26. ],\n",
       "       [11.5],\n",
       "       [ 5.2],\n",
       "       [10.9],\n",
       "       [12.5],\n",
       "       [14.8],\n",
       "       [25.2],\n",
       "       [14.9],\n",
       "       [17. ],\n",
       "       [10.6],\n",
       "       [16.1],\n",
       "       [15.4],\n",
       "       [26.7],\n",
       "       [25.8],\n",
       "       [18.6],\n",
       "       [24.8],\n",
       "       [27.3],\n",
       "       [12.4],\n",
       "       [29.9],\n",
       "       [17. ],\n",
       "       [35. ],\n",
       "       [30.4],\n",
       "       [32.6],\n",
       "       [29. ],\n",
       "       [15.2],\n",
       "       [30.2],\n",
       "       [11. ],\n",
       "       [33.6],\n",
       "       [29.3],\n",
       "       [26. ],\n",
       "       [31.9]])"
      ]
     },
     "execution_count": 31,
     "metadata": {},
     "output_type": "execute_result"
    }
   ],
   "source": [
    "y=df[[\"BodyFat\"]].values\n",
    "y"
   ]
  }
 ],
 "metadata": {
  "kernelspec": {
   "display_name": "Algebra_Taller3_Sebastian_David-RzRulIzR",
   "language": "python",
   "name": "python3"
  },
  "language_info": {
   "codemirror_mode": {
    "name": "ipython",
    "version": 3
   },
   "file_extension": ".py",
   "mimetype": "text/x-python",
   "name": "python",
   "nbconvert_exporter": "python",
   "pygments_lexer": "ipython3",
   "version": "3.11.5"
  },
  "orig_nbformat": 4
 },
 "nbformat": 4,
 "nbformat_minor": 2
}
