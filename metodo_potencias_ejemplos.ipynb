{
 "cells": [
  {
   "cell_type": "markdown",
   "metadata": {},
   "source": [
    "## Aproximación de valores propios \n",
    "\n",
    "En esta sección analizamos algunos métodos que se pueden utilizar para aproximar los valores propios de una matriz.A\n",
    ". Aunque es posible encontrar los valores propios exactos para matrices pequeñas, el método no es práctico para matrices más grandes.\n",
    "\n",
    "La mayoría de los libros de texto introductorios demuestran una forma directa de calcular los valores propios de unn×n\n",
    "matrizA\n",
    "calculando las raíces de un asociadon\n",
    "Polinomio de grado, conocido como polinomio característico . Por ejemplo, supongamosA\n",
    "es un2×2\n",
    "matriz.\n",
    "\n",
    "A=[acbd]\n",
    "\n",
    "Los valores propios de A\n",
    "son soluciones de la ecuación cuadráticaλ2−(a+d)λ+ad−bc=0\n",
    ", que se puede escribir explícitamente en términos de a,b,c, y d usando la fórmula cuadrática. Los desafíos con matrices más grandes son que el polinomio es más difícil de construir y las raíces no se pueden encontrar fácilmente con una fórmula.\n",
    "\n",
    "Los algoritmos que describimos en esta sección son métodos iterativos. Generan una secuencia de vectores.{X(1),X(2),X(3),...}\n",
    "que se acerquen a un verdadero vector propio de la matriz bajo consideración. Luego se puede calcular una aproximación del valor propio correspondiente multiplicando el vector propio aproximado por A.\n",
    "\n",
    "\n",
    "\n",
    "\n",
    "\n"
   ]
  },
  {
   "cell_type": "markdown",
   "metadata": {},
   "source": [
    "Método de potencia \n",
    "\n",
    "El primer algoritmo que presentamos para aproximar valores propios se conoce como Método de potencia . Este método genera una secuencia de vectores mediante multiplicación repetida de matrices. En condiciones adecuadas, la secuencia de vectores se acerca al vector propio asociado con el valor propio que es mayor en valor absoluto.\n",
    "\n",
    "Para la explicación más simple, supongamos queA\n",
    "es unn×n\n",
    "matriz diagonalizable con vectores propios{V1,V2,...Vn}\n",
    ", y esoλ1\n",
    "es el valor propio deA\n",
    "que es el mayor en valor absoluto. Para comenzar el método de potencia, elegimos cualquier vector distinto de cero y lo etiquetamosX(0)\n",
    ". podemos expresarX(0)\n",
    " como una combinación lineal de los vectores propios ya que forman una base paraRn\n",
    ".\n",
    "\n",
    "X(0)=c1V1+c2V2+...cnVn\n",
    "Ahora formamos una secuencia de vectores.X(1)\n",
    ",X(2)\n",
    ",X(3)\n",
    ", …, configurandoX(m)=AX(m−1)\n",
    ". Cada uno de estos vectores también se expresa fácilmente en términos de vectores propios.\n",
    "\n",
    "X(1)=AX(0)X(2)=AX(1)X(m)=AX(m−1)====⋮==c1AV1+c2AV2+...cnAVnc1λ1V1+c2λ2V2+...cnλnVnc1λ1AV1+c2λ2AV2+...cnλnAVnc1λ21V1+c2λ22V2+...cnλ2nVnc1λm−11AV1+c2λm−12AV2+...cnλm−1nAVnc1λm1V1+c2λm2V2+...cnλmnVn\n",
    " \n",
    "En la expresión paraX(m)\n",
    ", entonces podemos factorizarλm1\n",
    "para entender lo que sucede comom\n",
    "se hace grande.\n",
    "\n",
    "X(m)=λm1(c1V1+c2(λ2λ1)mV2+...cn(λnλ1)mVn)\n",
    "Si|λ1|>|λi|\n",
    "para todosi≠1\n",
    ", entonces|λi/λ1|<1\n",
    "y(λi/λ1)m\n",
    "se acercará a cero comom\n",
    "se hace grande. Esto significa que si multiplicamos repetidamente un vector por la matrizA\n",
    ", eventualmente obtendremos un vector que está muy cerca de la dirección del vector propio que corresponde alλ1\n",
    ".\n"
   ]
  },
  {
   "cell_type": "code",
   "execution_count": 2,
   "metadata": {},
   "outputs": [],
   "source": [
    "import numpy as np\n",
    "import laguide as lag"
   ]
  },
  {
   "cell_type": "code",
   "execution_count": 3,
   "metadata": {},
   "outputs": [
    {
     "name": "stdout",
     "output_type": "stream",
     "text": [
      "[[ 1.57523994e-12]\n",
      " [-5.77350269e-01]\n",
      " [-5.77350269e-01]\n",
      " [-5.77350269e-01]]\n"
     ]
    }
   ],
   "source": [
    "A = np.array([[-2, 6, 2, -8],[-6, 0, 12, 12],[-6, 0, 12, 12],[-10, 3, 7, 14]])\n",
    "X = np.array([[1],[0],[0],[0]])\n",
    "\n",
    "m = 0\n",
    "while (m < 20):\n",
    "    X = A@X\n",
    "    X = X/lag.Magnitude(X)  ## Esta es una función para sacar la norma euclidiana de un vector\n",
    "    m = m + 1\n",
    "    \n",
    "print(X)"
   ]
  },
  {
   "cell_type": "markdown",
   "metadata": {},
   "source": [
    "El vector X resultante es el vector propio dominante de la matriz A, que representa la distribución estacionaria de un proceso de Markov asociado a la matriz A"
   ]
  },
  {
   "cell_type": "code",
   "execution_count": 4,
   "metadata": {},
   "outputs": [
    {
     "name": "stdout",
     "output_type": "stream",
     "text": [
      "[[ 1.57523994e-12]\n",
      " [-5.77350269e-01]\n",
      " [-5.77350269e-01]\n",
      " [-5.77350269e-01]]\n"
     ]
    }
   ],
   "source": [
    "A = np.array([[-2, 6, 2, -8],[-6, 0, 12, 12],[-6, 0, 12, 12],[-10, 3, 7, 14]])\n",
    "X = np.array([[1],[0],[0],[0]])\n",
    "\n",
    "m = 0\n",
    "while (m < 20):\n",
    "    X = A@X\n",
    "    X = X/np.linalg.norm(X)  ### Esta es la norma Euclidiana\n",
    "    m = m + 1\n",
    "    \n",
    "print(X)"
   ]
  },
  {
   "cell_type": "markdown",
   "metadata": {},
   "source": [
    "Ahora si X es el vector propio de A con magnitud (distancia) unitaria, entonces|AX|=|λ1X|=|λ1. Por lo tanto podemos aproximarnos|λ1|con|AX|. Donde λ1 es el valor propio de A."
   ]
  },
  {
   "cell_type": "code",
   "execution_count": 5,
   "metadata": {},
   "outputs": [
    {
     "name": "stdout",
     "output_type": "stream",
     "text": [
      "24.000000000020005\n"
     ]
    }
   ],
   "source": [
    "print(np.linalg.norm(A@X))"
   ]
  },
  {
   "cell_type": "markdown",
   "metadata": {},
   "source": [
    "Parece que 24 es una estimación para λ1. Para determinar si nuestro cálculo es correcto, podemos comparar AX\n",
    "con λ1X."
   ]
  },
  {
   "cell_type": "code",
   "execution_count": 6,
   "metadata": {},
   "outputs": [
    {
     "name": "stdout",
     "output_type": "stream",
     "text": [
      "[[-4.09561274e-11]\n",
      " [-9.45021839e-12]\n",
      " [-9.45021839e-12]\n",
      " [-1.57509561e-11]]\n"
     ]
    }
   ],
   "source": [
    "print(A@X - 24*X)"
   ]
  },
  {
   "cell_type": "markdown",
   "metadata": {},
   "source": [
    "De hecho la diferencia AX−24X es pequeño. Tenga en cuenta que en este caso, incluso podemos hacer el cálculo con la multiplicación de números enteros. Darse cuenta de X tiene 0 en la primera entrada y las demás entradas son iguales. Si configuramos estas entradas en 1, el resultado es fácil de calcular incluso sin la ayuda de la computadora. ( Recuerde que podemos cambiar la magnitud de un vector propio y sigue siendo un vector propio ) ."
   ]
  },
  {
   "cell_type": "markdown",
   "metadata": {},
   "source": []
  },
  {
   "cell_type": "markdown",
   "metadata": {},
   "source": [
    "En la práctica, no sabemos cuántas iteraciones necesitamos realizar para obtener una buena aproximación del vector propio. En lugar de eso, deberíamos especificar una condición bajo la cual estaremos satisfechos con la aproximación y terminar la iteración. Por ejemplo, desde||AX(m)||≈λ1\n",
    "yAX(m)≈λ1X(m)\n",
    "podríamos requerir queAX(m)−||AX(m)||X(m)<ϵ\n",
    "por un pequeño númeroϵ\n",
    "conocido como tolerancia. Esta condición asegura queX(m)\n",
    "funciona aproximadamente como un vector propio. También es mejor incluir en el código un límite en el número de iteraciones que se llevarán a cabo. Esto garantiza que el cálculo finalmente finalizará, incluso si aún no se ha logrado un resultado satisfactorio."
   ]
  },
  {
   "cell_type": "code",
   "execution_count": 8,
   "metadata": {},
   "outputs": [
    {
     "name": "stdout",
     "output_type": "stream",
     "text": [
      "El vector propio es aproximadamente:\n",
      "[[ 1.65181395e-06]\n",
      " [-5.77350269e-01]\n",
      " [-5.77350269e-01]\n",
      " [-5.77350269e-01]] \n",
      "\n",
      "La magnitud del valor propio es aproximada.y:\n",
      "24.000020980823063 \n",
      "\n",
      "La magnitud de la diferencia es:\n",
      "4.328470441185797e-05\n"
     ]
    }
   ],
   "source": [
    "X = np.array([[1],[0],[0],[0]])\n",
    "\n",
    "m = 0\n",
    "tolerance = 0.0001\n",
    "MAX_ITERATIONS = 100\n",
    "\n",
    "## Calcular la diferencia en la condición de parada\n",
    "## Asigne Y = AX para evitar calcular AX varias veces\n",
    "Y = A@X\n",
    "difference = Y - np.linalg.norm(Y)*X\n",
    "\n",
    "while (m < MAX_ITERATIONS and np.linalg.norm(difference) > tolerance):\n",
    "    X = Y\n",
    "    X = X/np.linalg.norm(X)\n",
    "\n",
    "    ## Compute difference in stopping condition\n",
    "    Y = A@X\n",
    "    difference = Y - np.linalg.norm(Y)*X\n",
    "    \n",
    "    m = m + 1\n",
    "    \n",
    "print(\"El vector propio es aproximadamente:\")\n",
    "print(X,'\\n')\n",
    "print(\"La magnitud del valor propio es aproximada.y:\")\n",
    "print(np.linalg.norm(Y),'\\n')\n",
    "print(\"La magnitud de la diferencia es:\")\n",
    "print(np.linalg.norm(difference))"
   ]
  },
  {
   "cell_type": "markdown",
   "metadata": {},
   "source": [
    "Una condición más común que se requiere es que ||X(m)−X(m−1)||<ϵ para una tolerancia dada ϵ. Esta condición simplemente requiere que los vectores en la secuencia se acerquen entre sí, no que en realidad sean aproximados a un vector propio."
   ]
  },
  {
   "cell_type": "code",
   "execution_count": 9,
   "metadata": {},
   "outputs": [
    {
     "name": "stdout",
     "output_type": "stream",
     "text": [
      "Eigenvector is approximately:\n",
      "[[ 2.64294012e-05]\n",
      " [-5.77350269e-01]\n",
      " [-5.77350269e-01]\n",
      " [-5.77350269e-01]] \n",
      "\n",
      "Magnitude of the eigenvalue is approximately:\n",
      "24.000020980823063 \n",
      "\n",
      "Magnitude of the difference is:\n",
      "8.434774776931515e-05\n"
     ]
    }
   ],
   "source": [
    "X = np.array([[1],[0],[0],[0]])\n",
    "\n",
    "m = 0\n",
    "tolerance = 0.0001\n",
    "MAX_ITERATIONS = 100\n",
    "\n",
    "difference = X\n",
    "\n",
    "while (m < MAX_ITERATIONS and np.linalg.norm(difference) > tolerance):\n",
    "    X_previous = X\n",
    "    X = A@X\n",
    "    X = X/np.linalg.norm(X)\n",
    "\n",
    "    ## Compute difference in stopping condition\n",
    "    difference = X - X_previous\n",
    "    \n",
    "    m = m + 1\n",
    "    \n",
    "print(\"Eigenvector is approximately:\")\n",
    "print(X,'\\n')\n",
    "print(\"Magnitude of the eigenvalue is approximately:\")\n",
    "print(np.linalg.norm(Y),'\\n')\n",
    "print(\"Magnitude of the difference is:\")\n",
    "print(np.linalg.norm(difference))"
   ]
  },
  {
   "cell_type": "markdown",
   "metadata": {},
   "source": [
    "Si bien el Método Power es fácil de entender y aplicar, tiene desventajas. La desventaja más evidente es que el método sólo se aplica al valor propio más grande. Esto no supone un gran perjuicio, ya que las aplicaciones a menudo sólo requieren una aproximación del valor propio más grande. Además, como demostraremos a continuación, es posible modificar fácilmente el método para aproximar los otros valores propios. Una desventaja más importante es que la velocidad a la que converge la secuencia puede ser lenta en algunas circunstancias. Por ejemplo, podemos ver que si|λ1|\n",
    "esta cerca de|λ2|\n",
    ", entonces|λ1/λ2|m\n",
    "se acerca a cero más lentamente a medida quem\n",
    "se hace grande. El método de la potencia puede no converger en absoluto si|λ1|=|λ2|\n",
    ", que ocurre siλ1=−λ2\n",
    ", o siλ1\n",
    "yλ2\n",
    "son un par conjugado complejo. Además, el método puede funcionar mal si elV1\n",
    "componente deX(0)\n",
    "Es demasiado pequeño.\n",
    "\n"
   ]
  },
  {
   "cell_type": "markdown",
   "metadata": {},
   "source": [
    "## Método de potencia inversa"
   ]
  },
  {
   "cell_type": "markdown",
   "metadata": {},
   "source": [
    "El Método de la Potencia Inversa es una versión modificada del Método de la Potencia que nos permite aproximar valores propios que no son los más grandes . Todo lo que se necesita para realizar la modificación son dos hechos simples que relacionen los cambios en una matriz con los cambios en los valores propios de esa matriz. Supongamos queA\n",
    "es invertiblen×n\n",
    "matriz con valor propioλ\n",
    "y vector propio correspondienteV\n",
    ", de modo queAV=λV\n",
    ". Si multiplicamos esta ecuación porA−1\n",
    ", obtenemosV=λA−1V\n",
    ", que luego se puede dividir porλ\n",
    "para ilustrar el hecho útil"
   ]
  },
  {
   "cell_type": "markdown",
   "metadata": {},
   "source": [
    "A−1V=1λV"
   ]
  },
  {
   "cell_type": "markdown",
   "metadata": {},
   "source": [
    "Siλ\n",
    "es un valor propio deA\n",
    ", entoncesλ−1\n",
    "es un valor propio deA−1\n",
    ". Además, el vector propio deA\n",
    "también es un vector propio deA−1\n",
    ". El punto importante aquí es que siλn\n",
    "es el valor propio más pequeño deA\n",
    ", entoncesλ−1n\n",
    "es el vector propio más grande deA−1\n",
    ". Si queremos aproximar el valor propio más pequeño deA\n",
    ", podemos simplemente aplicar el método de potencia aA−1\n",
    "."
   ]
  },
  {
   "cell_type": "markdown",
   "metadata": {},
   "source": [
    "Demostramos el cálculo para lo siguiente3×3\n",
    "matriz."
   ]
  },
  {
   "cell_type": "markdown",
   "metadata": {},
   "source": []
  },
  {
   "cell_type": "markdown",
   "metadata": {},
   "source": [
    "Nuevamente elegimos un arbitrario.X(0)\n",
    "y generar una secuencia de vectores multiplicando porA−1\n",
    "y escalar el resultado a la unidad de longitud."
   ]
  },
  {
   "cell_type": "markdown",
   "metadata": {},
   "source": [
    "X(m) = A−1X(m−1) / ||A−1X(m−1)||"
   ]
  },
  {
   "cell_type": "code",
   "execution_count": 29,
   "metadata": {},
   "outputs": [
    {
     "name": "stdout",
     "output_type": "stream",
     "text": [
      "El vector propio es aproximadamente:\n",
      "[[-4.47193123e-01]\n",
      " [ 6.14168469e-05]\n",
      " [-8.94437425e-01]] \n",
      "\n",
      "La magnitud del valor propio de A inverso es aproximadamente:\n",
      "0.3333371476391265 \n",
      "\n",
      "La magnitud del valor propio de A es aproximadamente:\n",
      "2.999931351114087 \n",
      "\n"
     ]
    }
   ],
   "source": [
    "X = np.array([[0],[1],[0]])\n",
    "\n",
    "m = 0\n",
    "tolerance = 0.0001\n",
    "MAX_ITERATIONS = 100\n",
    "\n",
    "difference = X\n",
    "A = np.array([[9,-1,-3],[0,6,0],[-6,3,6]])\n",
    "A_inv = lag.Inverse(A)\n",
    "\n",
    "while (m < MAX_ITERATIONS and np.linalg.norm(difference) > tolerance):\n",
    "    X_previous = X\n",
    "    X = A_inv@X\n",
    "    X = X/np.linalg.norm(X)\n",
    "\n",
    "    ## Compute difference in stopping condition\n",
    "    difference = X - X_previous\n",
    "    \n",
    "    m = m + 1\n",
    "    \n",
    "print(\"El vector propio es aproximadamente:\")\n",
    "print(X,'\\n')\n",
    "print(\"La magnitud del valor propio de A inverso es aproximadamente:\")\n",
    "print(np.linalg.norm(A_inv@X),'\\n')\n",
    "print(\"La magnitud del valor propio de A es aproximadamente:\")\n",
    "print(np.linalg.norm(A@X),'\\n')"
   ]
  },
  {
   "cell_type": "markdown",
   "metadata": {},
   "source": [
    "En nuestra discusión sobre matrices inversas notamos que la construcción de una matriz inversa es bastante costosa ya que requiere la solución den\n",
    "sistemas de tamañon×n\n",
    ". Una alternativa a la construcción.A−1\n",
    "y calculando el X(m)=A−1X(m−1)\n",
    "es resolver el sistemaAX(m)=X(m−1)\n",
    "para obtenerX(m)\n",
    ". Esto significa que resolvemos unon×n\n",
    "sistema para cada iteración. Esto parece requerir más trabajo que la construcción deA−1\n",
    ", pero en realidad es menor ya que cada sistema involucra la misma matriz de coeficientes. Por lo tanto, podemos ahorrar mucho trabajo realizando la eliminación sólo una vez y almacenando el resultado en unLU\n",
    "factorización. con la matrizA\n",
    "factorizado, cada sistemaAX(m)=X(m−1)\n",
    "Solo requiere una sustitución hacia adelante y una sustitución hacia atrás."
   ]
  },
  {
   "cell_type": "code",
   "execution_count": 30,
   "metadata": {},
   "outputs": [
    {
     "name": "stdout",
     "output_type": "stream",
     "text": [
      "Eigenvector is approximately:\n",
      "[[-4.47193123e-01]\n",
      " [ 6.14168469e-05]\n",
      " [-8.94437425e-01]] \n",
      "\n",
      "Magnitude of the eigenvalue of A inverse is approximately:\n",
      "0.3333371476391265 \n",
      "\n",
      "Magnitude of the eigenvalue of A is approximately:\n",
      "2.999931351114087 \n",
      "\n"
     ]
    }
   ],
   "source": [
    "import scipy.linalg as sla\n",
    "\n",
    "X = np.array([[0],[1],[0]])\n",
    "\n",
    "m = 0\n",
    "tolerance = 0.0001\n",
    "MAX_ITERATIONS = 100\n",
    "\n",
    "difference = X\n",
    "A = np.array([[9,-1,-3],[0,6,0],[-6,3,6]])\n",
    "LU_factorization = sla.lu_factor(A)\n",
    "\n",
    "while (m < MAX_ITERATIONS and lag.Magnitude(difference) > tolerance):\n",
    "    X_previous = X\n",
    "    X = sla.lu_solve(LU_factorization,X)\n",
    "    X = X/lag.Magnitude(X)\n",
    "    difference = X - X_previous\n",
    "    m = m + 1\n",
    "  \n",
    "print(\"Eigenvector is approximately:\")\n",
    "print(X,'\\n')\n",
    "print(\"Magnitude of the eigenvalue of A inverse is approximately:\")\n",
    "print(lag.Magnitude(sla.lu_solve(LU_factorization,X)),'\\n')\n",
    "print(\"Magnitude of the eigenvalue of A is approximately:\")\n",
    "print(lag.Magnitude(A@X),'\\n')"
   ]
  }
 ],
 "metadata": {
  "kernelspec": {
   "display_name": "Algebra_Taller3_Sebastian_David--R_n51Qp",
   "language": "python",
   "name": "python3"
  },
  "language_info": {
   "codemirror_mode": {
    "name": "ipython",
    "version": 3
   },
   "file_extension": ".py",
   "mimetype": "text/x-python",
   "name": "python",
   "nbconvert_exporter": "python",
   "pygments_lexer": "ipython3",
   "version": "3.11.5"
  }
 },
 "nbformat": 4,
 "nbformat_minor": 2
}
