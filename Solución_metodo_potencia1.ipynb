{
 "cells": [
  {
   "cell_type": "code",
   "execution_count": 30,
   "metadata": {},
   "outputs": [],
   "source": [
    "import numpy as np\n",
    "import scipy.linalg as sla\n",
    "from scipy.linalg import eig"
   ]
  },
  {
   "cell_type": "markdown",
   "metadata": {},
   "source": [
    "## Problema 1.a \n",
    "\n",
    "- Utilice el método de la potencia para aproximar el valor propio más grande λ1. Verifique que el valor exacto de λ1 es 12 \n",
    "\n",
    "R/\n"
   ]
  },
  {
   "cell_type": "code",
   "execution_count": 25,
   "metadata": {},
   "outputs": [
    {
     "name": "stdout",
     "output_type": "stream",
     "text": [
      "El vector propio es aproximadamente:\n",
      "[[-7.07103544e-01]\n",
      " [ 9.71065612e-06]\n",
      " [ 7.07110018e-01]] \n",
      "\n",
      "La magnitud del valor propio es aproximadamente:\n",
      "12.000013732475342 \n",
      "\n"
     ]
    }
   ],
   "source": [
    "A = np.array([[9,-1,-3],[0,6,0],[-6,3,6]])\n",
    "X = np.array([[0],[1],[0]])\n",
    "\n",
    "m = 0\n",
    "tolerance = 0.0001\n",
    "MAX_ITERATIONS = 100\n",
    "\n",
    "## Calcular la diferencia en la condición de parada\n",
    "## Asigne Y = AX para evitar el calculo de AX varias veces\n",
    "Y = A@X\n",
    "difference = Y - np.linalg.norm(Y)*X\n",
    "\n",
    "while (m < MAX_ITERATIONS and np.linalg.norm(difference) > tolerance):\n",
    "    X = Y\n",
    "    X = X/np.linalg.norm(X)\n",
    "\n",
    "    ## Calcular la diferencia en la condición de parada\n",
    "    Y = A@X\n",
    "    difference = Y - np.linalg.norm(Y)*X\n",
    "    \n",
    "    m = m + 1\n",
    "    \n",
    "print(\"El vector propio es aproximadamente:\")\n",
    "print(X,'\\n')\n",
    "print(\"La magnitud del valor propio es aproximadamente:\")\n",
    "print(np.linalg.norm(Y),'\\n')"
   ]
  },
  {
   "cell_type": "markdown",
   "metadata": {},
   "source": [
    "Ahora para validar que nuestro calculo es correcto vamos a comparar AX con λ1X. Siendo λ1 = valor propio"
   ]
  },
  {
   "cell_type": "code",
   "execution_count": 14,
   "metadata": {},
   "outputs": [
    {
     "name": "stdout",
     "output_type": "stream",
     "text": [
      "[[-1.94216123e-05]\n",
      " [-5.82640701e-05]\n",
      " [-1.94208788e-05]]\n"
     ]
    }
   ],
   "source": [
    "print(A@X - 12.000013732475342 *X)"
   ]
  },
  {
   "cell_type": "code",
   "execution_count": 15,
   "metadata": {},
   "outputs": [
    {
     "data": {
      "text/plain": [
       "array([[-8.48527166e+00],\n",
       "       [ 5.82639367e-05],\n",
       "       [ 8.48531050e+00]])"
      ]
     },
     "execution_count": 15,
     "metadata": {},
     "output_type": "execute_result"
    }
   ],
   "source": [
    "A = np.array([[9,-1,-3],[0,6,0],[-6,3,6]])\n",
    "lamda = np.array([[-7.07103544e-01], [9.71065612e-06],[7.07110018e-01] ])\n",
    "Verificacion = A@lamda\n",
    "Verificacion"
   ]
  },
  {
   "cell_type": "markdown",
   "metadata": {},
   "source": [
    "## Problema 1.b \n",
    "\n",
    "- Aplique el método de potencia inversa con un desplazamiento de μ=10. Explique por qué los resultados difieren de los del ejemplo.\n",
    "\n",
    "R/"
   ]
  },
  {
   "cell_type": "code",
   "execution_count": 16,
   "metadata": {},
   "outputs": [
    {
     "name": "stdout",
     "output_type": "stream",
     "text": [
      "El vector propio es aproximadamente:\n",
      "[[-7.07113254e-01]\n",
      " [-1.94211789e-05]\n",
      " [ 7.07100308e-01]] \n",
      "\n",
      "La magnitud del valor propio es aproximadamente:\n",
      "11.999972530202639\n"
     ]
    }
   ],
   "source": [
    "A = np.array([[9,-1,-3],[0,6,0],[-6,3,6]])\n",
    "X = np.array([[0],[1],[0]])\n",
    "\n",
    "m = 0\n",
    "tolerance = 0.0001\n",
    "MAX_ITERATIONS = 100\n",
    "difference = X\n",
    "\n",
    "A = np.array([[9,-1,-3],[0,6,0],[-6,3,6]])\n",
    "I = np.eye(3) # Se crea una matriz de identidad 3x3\n",
    "mu = 10\n",
    "Ajuste_A = A-mu*I\n",
    "LU_factorization = sla.lu_factor(Ajuste_A)  ## Se utiliza para calcular la factorización LU de A con un pivoteo parcial\n",
    "\n",
    "while (m < MAX_ITERATIONS and np.linalg.norm(difference) > tolerance):\n",
    "    X_previous = X\n",
    "    X = sla.lu_solve(LU_factorization,X)  # Se soluciona el sistema de ecuaciones tomando la matriz original y la factorización LU\n",
    "    X = X/np.linalg.norm(X)\n",
    "\n",
    "    ## Compute difference in stopping condition\n",
    "    difference = X - X_previous\n",
    "    \n",
    "    m = m + 1\n",
    "\n",
    "print(\"El vector propio es aproximadamente:\")\n",
    "print(X,'\\n')\n",
    "print(\"La magnitud del valor propio es aproximadamente:\")\n",
    "print(np.linalg.norm(A@X))"
   ]
  },
  {
   "cell_type": "code",
   "execution_count": 17,
   "metadata": {},
   "outputs": [
    {
     "name": "stdout",
     "output_type": "stream",
     "text": [
      "[[3.88364103e-05]\n",
      " [1.16526540e-04]\n",
      " [3.88393440e-05]]\n"
     ]
    }
   ],
   "source": [
    "print(A@X - 11.999972530202639 *X)"
   ]
  },
  {
   "cell_type": "markdown",
   "metadata": {},
   "source": [
    "El resultado da muy diferente al ejemplo, ya que el valor propio más grande es 12 y nosotros estamos cogiendo μ = 10, muy cercano al vector propio más grande. En el ejemplo se cogio μ = 7, un valor que esta más central entre el valor propio más grande y el vector propio más pequeño."
   ]
  },
  {
   "cell_type": "markdown",
   "metadata": {},
   "source": [
    "## Problema 1.c \n",
    "\n",
    "- Aplique el método de potencia inversa con un desplazamiento de μ=7.5 y el vector inicial que se muestra a continuación. Explique por qué la secuencia de vectores se aproxima al vector propio correspondiente a λ1\n",
    "\n",
    "R/"
   ]
  },
  {
   "cell_type": "code",
   "execution_count": 20,
   "metadata": {},
   "outputs": [
    {
     "name": "stdout",
     "output_type": "stream",
     "text": [
      "Eigenvector is approximately:\n",
      "[[ 1.]\n",
      " [-0.]\n",
      " [-0.]] \n",
      "\n",
      "Eigenvalue of A is approximately:\n",
      "10.816653826391969\n"
     ]
    }
   ],
   "source": [
    "A = np.array([[9,-1,-3],[0,6,0],[-6,3,6]])\n",
    "X = np.array([[1],[0],[0]])\n",
    "\n",
    "m = 0\n",
    "tolerance = 0.0001\n",
    "MAX_ITERATIONS = 100\n",
    "difference = X\n",
    "\n",
    "A = np.array([[9,-1,-3],[0,6,0],[-6,3,6]])\n",
    "I = np.eye(3)\n",
    "mu = 7.5\n",
    "Shifted_A = A-mu*I\n",
    "LU_factorization = sla.lu_factor(Shifted_A)\n",
    "\n",
    "while (m < MAX_ITERATIONS and np.linalg.norm(difference) > tolerance):\n",
    "    X_previous = X\n",
    "    X = sla.lu_solve(LU_factorization,X)\n",
    "    X = X/np.linalg.norm(X)\n",
    "\n",
    "    ## Compute difference in stopping condition\n",
    "    difference = X - X_previous\n",
    "    \n",
    "    m = m + 1\n",
    "\n",
    "print(\"Eigenvector is approximately:\")\n",
    "print(X,'\\n')\n",
    "print(\"Eigenvalue of A is approximately:\")\n",
    "print(np.linalg.norm(A@X))"
   ]
  },
  {
   "cell_type": "markdown",
   "metadata": {},
   "source": [
    "El método de la potencia inversa con un desplazamiento de U encuentra el valor propio más cercano a U. A tiene tres valores propios, a saber, 3, 6 y 12, de los cuales 10 es el más cercano a 12 y 7,5 es el más cercano a 6. Es por eso que cuando usamos μ = 7,5 en el ejemplo obtuvimos el valor propio 6, pero cuando usamos μ =7.5 obtuvimos el valor propio 12"
   ]
  },
  {
   "cell_type": "markdown",
   "metadata": {},
   "source": [
    "## Problema 2.a \n",
    "\n",
    "- Aplicar el método de potencia y el método de potencia inversa con desplazamientos para aproximar todos los valores propios de la matriz B( Tenga en cuenta que uno de los valores propios de esta matriz es negativo ).\n",
    "\n",
    "R/"
   ]
  },
  {
   "cell_type": "markdown",
   "metadata": {},
   "source": [
    "Aplicamos el metodo de potencia "
   ]
  },
  {
   "cell_type": "code",
   "execution_count": 27,
   "metadata": {},
   "outputs": [
    {
     "name": "stdout",
     "output_type": "stream",
     "text": [
      "El vector propio es aproximadamente:\n",
      "[[-0.24626613]\n",
      " [ 0.31622748]\n",
      " [ 0.9161622 ]] \n",
      "\n",
      "La magnitud del valor propio es aproximadamente:\n",
      "43.435119198306694 \n",
      "\n"
     ]
    }
   ],
   "source": [
    "A = np.array([[-2,-18,-6],[-11,3,11],[-27,15,31]])\n",
    "X = np.array([[0],[1],[0]])\n",
    "\n",
    "m = 0\n",
    "tolerance = 0.0001\n",
    "MAX_ITERATIONS = 100\n",
    "\n",
    "## Calcular la diferencia en la condición de parada\n",
    "## Asigne Y = AX para evitar el calculo de AX varias veces\n",
    "Y = A@X\n",
    "difference = Y - np.linalg.norm(Y)*X\n",
    "\n",
    "while (m < MAX_ITERATIONS and np.linalg.norm(difference) > tolerance):\n",
    "    X = Y\n",
    "    X = X/np.linalg.norm(X)\n",
    "\n",
    "    ## Calcular la diferencia en la condición de parada\n",
    "    Y = A@X\n",
    "    difference = Y - np.linalg.norm(Y)*X\n",
    "    \n",
    "    m = m + 1\n",
    "    \n",
    "print(\"El vector propio es aproximadamente:\")\n",
    "print(X,'\\n')\n",
    "print(\"La magnitud del valor propio es aproximadamente:\")\n",
    "print(np.linalg.norm(Y),'\\n')"
   ]
  },
  {
   "cell_type": "markdown",
   "metadata": {},
   "source": [
    "Aplicamos el metodo de potencia inversa "
   ]
  },
  {
   "cell_type": "code",
   "execution_count": 28,
   "metadata": {},
   "outputs": [
    {
     "name": "stdout",
     "output_type": "stream",
     "text": [
      "Eigenvector is approximately:\n",
      "[[-4.47193123e-01]\n",
      " [ 6.14168469e-05]\n",
      " [-8.94437425e-01]] \n",
      "\n",
      "Magnitude of the eigenvalue of A inverse is approximately:\n",
      "0.3333371476391265 \n",
      "\n",
      "Magnitude of the eigenvalue of A is approximately:\n",
      "2.999931351114087 \n",
      "\n"
     ]
    }
   ],
   "source": [
    "A = np.array([[-2,-18,-6],[-11,3,11],[-27,15,31]])\n",
    "X = np.array([[0],[1],[0]])\n",
    "\n",
    "m = 0\n",
    "tolerance = 0.0001\n",
    "MAX_ITERATIONS = 100\n",
    "\n",
    "difference = X\n",
    "A = np.array([[9,-1,-3],[0,6,0],[-6,3,6]])\n",
    "LU_factorization = sla.lu_factor(A)\n",
    "\n",
    "while (m < MAX_ITERATIONS and np.linalg.norm(difference) > tolerance):\n",
    "    X_previous = X\n",
    "    X = sla.lu_solve(LU_factorization,X)\n",
    "    X = X/np.linalg.norm(X)\n",
    "    difference = X - X_previous\n",
    "    m = m + 1\n",
    "  \n",
    "print(\"Eigenvector is approximately:\")\n",
    "print(X,'\\n')\n",
    "print(\"Magnitude of the eigenvalue of A inverse is approximately:\")\n",
    "print(np.linalg.norm(sla.lu_solve(LU_factorization,X)),'\\n')\n",
    "print(\"Magnitude of the eigenvalue of A is approximately:\")\n",
    "print(np.linalg.norm(A@X),'\\n')"
   ]
  },
  {
   "cell_type": "markdown",
   "metadata": {},
   "source": [
    "Aplicamos el metodo de potencia inversa con desplazaminto, escogiendo μ = 23"
   ]
  },
  {
   "cell_type": "code",
   "execution_count": 29,
   "metadata": {},
   "outputs": [
    {
     "name": "stdout",
     "output_type": "stream",
     "text": [
      "Eigenvector is approximately:\n",
      "[[-0.24631364]\n",
      " [ 0.31625724]\n",
      " [ 0.91613915]] \n",
      "\n",
      "Eigenvalue of B is approximately:\n",
      "43.43623681272888\n"
     ]
    }
   ],
   "source": [
    "B = np.array([[-2,-18,-6],[-11,3,11],[-27,15,31]])\n",
    "X = np.array([[0],[1],[0]])\n",
    "\n",
    "m = 0\n",
    "tolerance = 0.0001\n",
    "MAX_ITERATIONS = 100\n",
    "difference = X\n",
    "\n",
    "B = np.array([[-2,-18,-6],[-11,3,11],[-27,15,31]])\n",
    "I = np.eye(3)\n",
    "mu = 23\n",
    "Shifted_B = B-mu*I\n",
    "LU_factorization = sla.lu_factor(Shifted_B)\n",
    "\n",
    "while (m < MAX_ITERATIONS and np.linalg.norm(difference) > tolerance):\n",
    "    X_previous = X\n",
    "    X = sla.lu_solve(LU_factorization,X)\n",
    "    X = X/np.linalg.norm(X)\n",
    "\n",
    "    ## Compute difference in stopping condition\n",
    "    difference = X - X_previous\n",
    "    \n",
    "    m = m + 1\n",
    "\n",
    "print(\"Eigenvector is approximately:\")\n",
    "print(X,'\\n')\n",
    "print(\"Eigenvalue of B is approximately:\")\n",
    "print(np.linalg.norm(B@X))"
   ]
  },
  {
   "cell_type": "markdown",
   "metadata": {},
   "source": [
    "## Problema 2.b\n",
    "\n",
    "Verifique sus resultados usando el eigFunción en SciPy.\n",
    "\n",
    "R/"
   ]
  },
  {
   "cell_type": "code",
   "execution_count": 31,
   "metadata": {},
   "outputs": [
    {
     "name": "stdout",
     "output_type": "stream",
     "text": [
      "Valores propios:\n",
      "[ 43.43509994+0.j -11.71802235+0.j   0.28292241+0.j]\n",
      "Vectores propios:\n",
      "[[-0.24626499  0.84814429  0.63062728]\n",
      " [ 0.31622777  0.31622777 -0.31622777]\n",
      " [ 0.91616241  0.4250309   0.70873777]]\n"
     ]
    }
   ],
   "source": [
    "B = np.array([[-2,-18,-6],[-11,3,11],[-27,15,31]])\n",
    "\n",
    "eigenvalues, eigenvectors = eig(B)\n",
    "\n",
    "print(\"Valores propios:\")\n",
    "print(eigenvalues)\n",
    "\n",
    "print(\"Vectores propios:\")\n",
    "print(eigenvectors)"
   ]
  },
  {
   "cell_type": "markdown",
   "metadata": {},
   "source": [
    "Como se puede observar, los resultados dieron igual, utilizando el metodo de potencia, el metodo de potencia inversa y el metodo de potencia inversa con desplazamiento VS la función eig de Scipy"
   ]
  }
 ],
 "metadata": {
  "kernelspec": {
   "display_name": "Algebra_Taller3_Sebastian_David--R_n51Qp",
   "language": "python",
   "name": "python3"
  },
  "language_info": {
   "codemirror_mode": {
    "name": "ipython",
    "version": 3
   },
   "file_extension": ".py",
   "mimetype": "text/x-python",
   "name": "python",
   "nbconvert_exporter": "python",
   "pygments_lexer": "ipython3",
   "version": "3.11.5"
  }
 },
 "nbformat": 4,
 "nbformat_minor": 2
}
